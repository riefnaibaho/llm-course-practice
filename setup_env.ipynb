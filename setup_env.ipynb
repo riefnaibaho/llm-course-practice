{
 "cells": [
  {
   "cell_type": "code",
   "execution_count": 2,
   "id": "cb3ba218-fb51-49d5-a2a5-021b764a6063",
   "metadata": {},
   "outputs": [],
   "source": [
    "import openai\n",
    "from openai import AzureOpenAI"
   ]
  },
  {
   "cell_type": "code",
   "execution_count": 6,
   "id": "db6d5e56-e933-4b72-9bbb-eebb88f97194",
   "metadata": {},
   "outputs": [],
   "source": [
    "client = AzureOpenAI()"
   ]
  },
  {
   "cell_type": "code",
   "execution_count": 17,
   "id": "6200231f-9960-4a53-bbd7-d6b8c1ecfc48",
   "metadata": {},
   "outputs": [],
   "source": [
    "response = client.chat.completions.create(\n",
    "    model='gpt-4o',\n",
    "    messages=[\n",
    "        {\n",
    "        \"role\": \"user\",\n",
    "        \"content\":\"is it too late to join online LLM course?\"\n",
    "        }\n",
    "    ]\n",
    ")"
   ]
  },
  {
   "cell_type": "code",
   "execution_count": 18,
   "id": "9beedaba-9f09-451f-a7c7-dd9b8fd9f80e",
   "metadata": {},
   "outputs": [
    {
     "data": {
      "text/plain": [
       "\"It's not necessarily too late to join an online LL.M. (Master of Laws) course, but this depends on several factors:\\n\\n1. **Application Deadlines**: Different universities and programs have varying application deadlines. Some may have rolling admissions, while others may have specific cutoff dates. It's essential to check the deadlines of the specific programs you're interested in.\\n\\n2. **Start Dates**: Online programs might have multiple start dates throughout the year, which can provide flexibility. Some programs may begin in the fall, spring, or even the summer, so you might still have time to apply for an upcoming start date.\\n\\n3. **Admission Requirements**: Ensure you have all the necessary documents and meet the prerequisites for the program. This typically includes having a first degree in law, relevant professional experience, transcripts, letters of recommendation, and possibly a personal statement or essay.\\n\\n4. **Enrollment Capacity**: Some programs may have limited spots available, so it's also important to check if they still have openings for the term you're aiming for.\\n\\n5. **Financial Aid**: If you are considering financial aid or scholarships, keep in mind that these may have earlier application deadlines.\\n\\nTo determine if it’s too late to apply:\\n\\n- **Research Specific Programs**: Visit the websites of the universities offering the LL.M. programs you're interested in. They often provide detailed information about application deadlines, start dates, and requirements.\\n  \\n- **Contact Admissions Offices**: Reach out directly to the admissions offices of these programs for the most accurate and up-to-date information.\\n\\n- **Prepare Your Application**: Gather all required documents and submit your application as swiftly as possible if timelines are tight.\\n\\nIf you find that you have missed the deadline for one program or intake, don’t be discouraged. Many universities offer multiple intakes throughout the year, and you can always apply for a subsequent term.\""
      ]
     },
     "execution_count": 18,
     "metadata": {},
     "output_type": "execute_result"
    }
   ],
   "source": [
    "response.choices[0].message.content"
   ]
  },
  {
   "cell_type": "code",
   "execution_count": null,
   "id": "bcaa5c2b-17ed-4dc1-8304-6b8777391e63",
   "metadata": {},
   "outputs": [],
   "source": []
  }
 ],
 "metadata": {
  "kernelspec": {
   "display_name": "Python 3 (ipykernel)",
   "language": "python",
   "name": "python3"
  },
  "language_info": {
   "codemirror_mode": {
    "name": "ipython",
    "version": 3
   },
   "file_extension": ".py",
   "mimetype": "text/x-python",
   "name": "python",
   "nbconvert_exporter": "python",
   "pygments_lexer": "ipython3",
   "version": "3.10.13"
  }
 },
 "nbformat": 4,
 "nbformat_minor": 5
}
